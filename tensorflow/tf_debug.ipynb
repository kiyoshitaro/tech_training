{
  "nbformat": 4,
  "nbformat_minor": 0,
  "metadata": {
    "colab": {
      "name": "tf_debug.ipynb",
      "provenance": [],
      "collapsed_sections": []
    },
    "kernelspec": {
      "name": "python3",
      "display_name": "Python 3"
    }
  },
  "cells": [
    {
      "cell_type": "code",
      "metadata": {
        "id": "XFnEJBw5XK-w"
      },
      "source": [
        "import pandas as pd\n",
        "import numpy as np\n",
        "import logging\n",
        "import pickle\n",
        "import tensorflow as tf"
      ],
      "execution_count": null,
      "outputs": []
    },
    {
      "cell_type": "code",
      "metadata": {
        "id": "kQjFjk9rdHIj",
        "colab": {
          "base_uri": "https://localhost:8080/",
          "height": 143
        },
        "outputId": "130ed874-7a9f-48cc-c1e6-1de8dc2b1a82"
      },
      "source": [
        "V = np.array(range(288*212)).reshape((288,212))\n",
        "print(V)"
      ],
      "execution_count": null,
      "outputs": [
        {
          "output_type": "stream",
          "text": [
            "[[    0     1     2 ...   209   210   211]\n",
            " [  212   213   214 ...   421   422   423]\n",
            " [  424   425   426 ...   633   634   635]\n",
            " ...\n",
            " [60420 60421 60422 ... 60629 60630 60631]\n",
            " [60632 60633 60634 ... 60841 60842 60843]\n",
            " [60844 60845 60846 ... 61053 61054 61055]]\n"
          ],
          "name": "stdout"
        }
      ]
    },
    {
      "cell_type": "code",
      "metadata": {
        "id": "g4laYN-nbd_m"
      },
      "source": [
        "graph = tf.Graph()\n",
        "with graph.as_default():\n",
        "  \n",
        "  \n",
        "#   V_in = tf.placeholder(dtype=tf.float32, shape=[None,None, 3], name='input_vertices')\n",
        "#   no_features = V_in.get_shape()[-1].value\n",
        "#   V_reshape = tf.reshape(V_in, (-1, no_features))\n",
        "\n",
        "# # SLICE\n",
        "#   V_out = tf.slice(tf.shape(V_in), [0], [len(V_in.get_shape())-1])\n",
        "#   V_reshape = tf.reshape(V_in, (-1, no_features))\n",
        "  \n",
        "  \n",
        "# #   TILE\n",
        "#   V_in = tf.placeholder(dtype = tf.float32)\n",
        "# #   V_out = tf.shape(V_in)\n",
        "# #   V_in = [1,2,3,4]\n",
        "#   V_out = tf.tile(V_in, tf.constant([6]))\n",
        "# #   V_out = [1. 2. 3. 4. 1. 2. 3. 4. 1. 2. 3. 4. 1. 2. 3. 4. 1. 2. 3. 4. 1. 2. 3. 4.]\n",
        "  \n",
        "  \n",
        "#   RANGE\n",
        "#   V_out = tf.range(6)\n",
        "#   [0 1 2 3 4 5]\n",
        "\n",
        "\n",
        "# #   EXPAND_DIMS (4*3) --> (4*1*3) VOI AXIS = 1\n",
        "# #   V_in = [[1,2,3],[4,5,6]]\n",
        "#   V_in = tf.placeholder(dtype = tf.float32)\n",
        "#   V_out = tf.expand_dims(V_in, 1)\n",
        "# #   V_out =[[[1.]\n",
        "# #   [2.]\n",
        "# #   [3.]]\n",
        "\n",
        "# #  [[4.]\n",
        "# #   [5.]\n",
        "# #   [6.]]]\n",
        "\n",
        "#   V_in = tf.placeholder(dtype = tf.float32)\n",
        "#   V_out = tf.tile(tf.expand_dims(tf.range(6), 1), [2, 1])\n",
        "#   V_out = tf.expand_dims(tf.range(6), 1)\n",
        "  \n",
        "  \n",
        "# EMBEDDING_LOOKUP\n",
        "#   V_out = tf.nn.embedding_lookup(params = tf.constant([[1,2,3],[4,5,6],[7,8,9],[10,11,12]]), ids = tf.constant([[1,1],[2,1]]))\n",
        "# #   [[[4 5 6]\n",
        "# #   [4 5 6]]\n",
        "\n",
        "# #  [[7 8 9]\n",
        "# #   [4 5 6]]]\n",
        "\n",
        "\n",
        "# #   SPLIT & CONCAT\n",
        "# # V_in = [[1,2,3],[4,5,6],[7,8,9],[10,11,1text2]]\n",
        "#   V_in = tf.placeholder(dtype = tf.float32)\n",
        "#   q = V_in[0]\n",
        "#   V_out = tf.split(V_in,num_or_size_splits = [2,2],axis = 0)   # 2 + 2 = 4\n",
        "#   # V_out = [array([[1., 2., 3.],\n",
        "# #        [4., 5., 6.]], dtype=float32), array([[ 7.,  8.,  9.],\n",
        "# #        [10., 11., 12.]], dtype=float32)]\n",
        "\n",
        "#   V_out = tf.concat(V_out,axis = 1)\n",
        "# #   V_out = [[ 1.  2.  3.  7.  8.  9.]\n",
        "# #  [ 4.  5.  6. 10. 11. 12.]]\n",
        "#   V_out = tf.expand_dims(V_out,0)\n",
        "#   V_out = tf.transpose(V_out,[2,0,1]) #(1,2,6) --> (6,1,2)\n",
        "  \n",
        "# #   SOFTMAX (keep shape)\n",
        "#   V_in = tf.placeholder(shape = [4,3] , dtype = tf.float32)\n",
        "#   V_out = tf.nn.softmax(V_in,axis = 1) #axis default = -1 \n",
        "\n",
        "#   SUMMARY_IMAGE (4-D ( [batch_size, height, width, channels]) --> )\n",
        "#   V_in = tf.placeholder( dtype = tf.float32)\n",
        "#   V_out = tf.summary.image(\"image\" , V_in) \n",
        "\n",
        "\n",
        "# PAD\n",
        "#   t = tf.constant([[1, 2, 3], [4, 5, 6]])\n",
        "#   paddings = tf.constant([[1, 1,], [2, 2]])\n",
        "#   # 'constant_values' is 0.\n",
        "#   # rank of 't' is 2.\n",
        "#   V_out = tf.pad(t, paddings, \"CONSTANT\")  # [[0, 0, 0, 0, 0, 0, 0],\n",
        "#                                    #  [0, 0, 1, 2, 3, 0, 0],\n",
        "#                                    #  [0, 0, 4, 5, 6, 0, 0],\n",
        "#                                    #  [0, 0, 0, 0, 0, 0, 0]]\n",
        "\n",
        "#   V_out = tf.pad(t, paddings, \"REFLECT\")  # [[6, 5, 4, 5, 6, 5, 4],\n",
        "#                                   #  [3, 2, 1, 2, 3, 2, 1],\n",
        "#                                   #  [6, 5, 4, 5, 6, 5, 4],\n",
        "#                                   #  [3, 2, 1, 2, 3, 2, 1]]\n",
        "\n",
        "#   V_out = tf.pad(t, paddings, \"SYMMETRIC\")  # [[2, 1, 1, 2, 3, 3, 2],\n",
        "                                    #  [2, 1, 1, 2, 3, 3, 2],\n",
        "                                    #  [5, 4, 4, 5, 6, 6, 5],\n",
        "                                    #  [5, 4, 4, 5, 6, 6, 5]]\n",
        "\n",
        "   \n",
        "  \n",
        "  \n",
        "#     V_in = tf.constant([[[1,2],[3,4]],[[5,6],[7,8]]])\n",
        "#     V_out = tf.reshape(V_in, (-1, 2))\n",
        "\n",
        "\n",
        "# # WHERE\n",
        "#     a = tf.constant([[[1,0],[0,2]],[[0,3],[4,0]]])\n",
        "#     h = tf.multiply(tf.ones(a.shape, tf.int32), 100)\n",
        "#     V_out = tf.where(tf.constant([[[False,True],[True,False]],[[True,False],[True,True]]]), h, a)\n",
        "# #     [array([[[  1, 100],\n",
        "# #         [100,   2]],\n",
        "\n",
        "# #        [[100,   3],\n",
        "# #         [  4, 100]]], dtype=int32)\n",
        "\n",
        "\n",
        "  tril = [[1., 2.,3,3], [3., 4.,5,4],[1,1,1,1]]\n",
        "  V_out = tf.linalg.LinearOperatorLowerTriangular(tril).to_dense()  # (T_q, T_k)\n"
      ],
      "execution_count": null,
      "outputs": []
    },
    {
      "cell_type": "code",
      "metadata": {
        "id": "5RaedWzID467"
      },
      "source": [
        "V = np.array([[[1, 2],[3, 4], [5, 6]]])\n",
        "# V = [5]\n",
        "# V = [[1,2],[3,4]]\n",
        "V =[[[1,2,3],[4,5,6],[7,8,9],[10,11,12]],[[1,2,3],[4,5,6],[7,8,9],[10,11,12]]]\n",
        "# V = np.reshape(np.arange(24),[2,2,2,3])/16\n"
      ],
      "execution_count": null,
      "outputs": []
    },
    {
      "cell_type": "code",
      "metadata": {
        "id": "oDc5EcEcbtiP",
        "colab": {
          "base_uri": "https://localhost:8080/",
          "height": 69
        },
        "outputId": "a10b0111-3a2e-4dad-9add-d9fd13e3c03a"
      },
      "source": [
        "with tf.Session(graph = graph) as sess:\n",
        "#   V_reshape,\n",
        "  V_out = sess.run(\n",
        "                  [V_out,\n",
        "#                    V_reshape\n",
        "                  ],\n",
        "#                    feed_dict = {V_in : V}\n",
        "                  )\n",
        "  print(V_out)\n",
        "#   print(V_reshape)"
      ],
      "execution_count": null,
      "outputs": [
        {
          "output_type": "stream",
          "text": [
            "[array([[1., 0., 0., 0.],\n",
            "       [3., 4., 0., 0.],\n",
            "       [1., 1., 1., 0.]], dtype=float32)]\n"
          ],
          "name": "stdout"
        }
      ]
    },
    {
      "cell_type": "code",
      "metadata": {
        "id": "AimxeKZm6Vx4"
      },
      "source": [
        "# Test GPU device available\n",
        "from tensorflow.python.client import device_lib\n",
        "\n",
        "def get_available_gpus():\n",
        "    local_device_protos = device_lib.list_local_devices()\n",
        "    return [x.name for x in local_device_protos if x.device_type == 'GPU']"
      ],
      "execution_count": null,
      "outputs": []
    },
    {
      "cell_type": "code",
      "metadata": {
        "id": "Fzq0llm6I_0g",
        "colab": {
          "base_uri": "https://localhost:8080/",
          "height": 34
        },
        "outputId": "2be53a0c-51f2-4250-ae09-b96f790e79f7"
      },
      "source": [
        "import cv2\n",
        "import imutils\n",
        "\n",
        "def show_image(img, winname=\"TEST\"):\n",
        "    from matplotlib import pyplot\n",
        "    pyplot.figure()\n",
        "    pyplot.imshow(img)\n",
        "    pyplot.title(winname)\n",
        "    pyplot.show()\n",
        "    \n",
        "print(V_out)"
      ],
      "execution_count": null,
      "outputs": [
        {
          "output_type": "stream",
          "text": [
            "Tensor(\"image:0\", shape=(), dtype=string)\n"
          ],
          "name": "stdout"
        }
      ]
    },
    {
      "cell_type": "code",
      "metadata": {
        "id": "M89n453_Tb_N"
      },
      "source": [
        "def call_html():\n",
        "  import IPython\n",
        "  display(IPython.core.display.HTML('''\n",
        "        <script src=\"/static/components/requirejs/require.js\"></script>\n",
        "        <script>\n",
        "          requirejs.config({\n",
        "            paths: {\n",
        "              base: '/static/base',\n",
        "              \"d3\": \"https://cdnjs.cloudflare.com/ajax/libs/d3/3.5.8/d3.min\",\n",
        "              jquery: '//ajax.googleapis.com/ajax/libs/jquery/2.0.0/jquery.min',\n",
        "            },\n",
        "          });\n",
        "        </script>\n",
        "        '''))"
      ],
      "execution_count": null,
      "outputs": []
    },
    {
      "cell_type": "code",
      "metadata": {
        "id": "Xye8kPVDyotX",
        "colab": {
          "base_uri": "https://localhost:8080/",
          "height": 353
        },
        "outputId": "d2f1553c-2701-4616-ee84-2766bc8794b3"
      },
      "source": [
        "!pip install tensorflow  "
      ],
      "execution_count": null,
      "outputs": [
        {
          "output_type": "stream",
          "text": [
            "Requirement already satisfied: tensorflow in /usr/local/lib/python3.6/dist-packages (1.13.0rc1)\n",
            "Requirement already satisfied: numpy>=1.13.3 in /usr/local/lib/python3.6/dist-packages (from tensorflow) (1.14.6)\n",
            "Requirement already satisfied: tensorflow-estimator<1.14.0rc0,>=1.13.0rc0 in /usr/local/lib/python3.6/dist-packages (from tensorflow) (1.13.0rc0)\n",
            "Requirement already satisfied: termcolor>=1.1.0 in /usr/local/lib/python3.6/dist-packages (from tensorflow) (1.1.0)\n",
            "Requirement already satisfied: keras-applications>=1.0.6 in /usr/local/lib/python3.6/dist-packages (from tensorflow) (1.0.7)\n",
            "Requirement already satisfied: astor>=0.6.0 in /usr/local/lib/python3.6/dist-packages (from tensorflow) (0.7.1)\n",
            "Requirement already satisfied: absl-py>=0.1.6 in /usr/local/lib/python3.6/dist-packages (from tensorflow) (0.7.0)\n",
            "Requirement already satisfied: wheel>=0.26 in /usr/local/lib/python3.6/dist-packages (from tensorflow) (0.33.0)\n",
            "Requirement already satisfied: grpcio>=1.8.6 in /usr/local/lib/python3.6/dist-packages (from tensorflow) (1.15.0)\n",
            "Requirement already satisfied: six>=1.10.0 in /usr/local/lib/python3.6/dist-packages (from tensorflow) (1.11.0)\n",
            "Requirement already satisfied: protobuf>=3.6.1 in /usr/local/lib/python3.6/dist-packages (from tensorflow) (3.6.1)\n",
            "Requirement already satisfied: tensorboard<1.13.0,>=1.12.0 in /usr/local/lib/python3.6/dist-packages (from tensorflow) (1.12.2)\n",
            "Requirement already satisfied: keras-preprocessing>=1.0.5 in /usr/local/lib/python3.6/dist-packages (from tensorflow) (1.0.9)\n",
            "Requirement already satisfied: gast>=0.2.0 in /usr/local/lib/python3.6/dist-packages (from tensorflow) (0.2.2)\n",
            "Requirement already satisfied: mock>=2.0.0 in /usr/local/lib/python3.6/dist-packages (from tensorflow-estimator<1.14.0rc0,>=1.13.0rc0->tensorflow) (2.0.0)\n",
            "Requirement already satisfied: h5py in /usr/local/lib/python3.6/dist-packages (from keras-applications>=1.0.6->tensorflow) (2.8.0)\n",
            "Requirement already satisfied: setuptools in /usr/local/lib/python3.6/dist-packages (from protobuf>=3.6.1->tensorflow) (40.8.0)\n",
            "Requirement already satisfied: werkzeug>=0.11.10 in /usr/local/lib/python3.6/dist-packages (from tensorboard<1.13.0,>=1.12.0->tensorflow) (0.14.1)\n",
            "Requirement already satisfied: markdown>=2.6.8 in /usr/local/lib/python3.6/dist-packages (from tensorboard<1.13.0,>=1.12.0->tensorflow) (3.0.1)\n",
            "Requirement already satisfied: pbr>=0.11 in /usr/local/lib/python3.6/dist-packages (from mock>=2.0.0->tensorflow-estimator<1.14.0rc0,>=1.13.0rc0->tensorflow) (5.1.2)\n"
          ],
          "name": "stdout"
        }
      ]
    },
    {
      "cell_type": "code",
      "metadata": {
        "id": "3H7QQgTFyxtv",
        "colab": {
          "base_uri": "https://localhost:8080/",
          "height": 50
        },
        "outputId": "c08f21a2-3005-423d-d1ea-954068d33c92"
      },
      "source": [
        "!pip install -q -U tensor2tensor\n"
      ],
      "execution_count": null,
      "outputs": [
        {
          "output_type": "stream",
          "text": [
            "\u001b[K    100% |████████████████████████████████| 1.2MB 12.4MB/s \n",
            "\u001b[K    100% |████████████████████████████████| 450kB 22.3MB/s \n",
            "\u001b[?25h"
          ],
          "name": "stdout"
        }
      ]
    },
    {
      "cell_type": "code",
      "metadata": {
        "id": "rlijF5llyhdu"
      },
      "source": [
        "import tensorflow as tf\n",
        "from tensor2tensor import problems\n",
        "from tensor2tensor.visualization import attention\n",
        "from tensor2tensor.utils import registry\n",
        "from tensor2tensor.utils import trainer_lib\n",
        "\n",
        "from tensor2tensor.visualization import attention\n"
      ],
      "execution_count": null,
      "outputs": []
    },
    {
      "cell_type": "code",
      "metadata": {
        "id": "egS6YHx3zaCs",
        "colab": {
          "base_uri": "https://localhost:8080/",
          "height": 255
        },
        "outputId": "77ee9232-123c-4459-a4da-4bb0ac80e47f"
      },
      "source": [
        "!apt-get install -y -qq software-properties-common python-software-properties module-init-tools\n",
        "!add-apt-repository -y ppa:alessandro-strada/ppa 2>&1 > /dev/null\n",
        "!apt-get update -qq 2>&1 > /dev/null\n",
        "!apt-get -y install -qq google-drive-ocamlfuse fuse\n",
        "from google.colab import auth\n",
        "auth.authenticate_user()\n",
        "from oauth2client.client import GoogleCredentials\n",
        "creds = GoogleCredentials.get_application_default()\n",
        "import getpass\n",
        "!google-drive-ocamlfuse -headless -id={creds.client_id} -secret={creds.client_secret} < /dev/null 2>&1 | grep URL\n",
        "vcode = getpass.getpass()\n",
        "!echo {vcode} | google-drive-ocamlfuse -headless -id={creds.client_id} -secret={creds.client_secret}\n"
      ],
      "execution_count": null,
      "outputs": [
        {
          "output_type": "stream",
          "text": [
            "E: Package 'python-software-properties' has no installation candidate\n",
            "Selecting previously unselected package google-drive-ocamlfuse.\n",
            "(Reading database ... 131352 files and directories currently installed.)\n",
            "Preparing to unpack .../google-drive-ocamlfuse_0.7.1-0ubuntu3~ubuntu18.04.1_amd64.deb ...\n",
            "Unpacking google-drive-ocamlfuse (0.7.1-0ubuntu3~ubuntu18.04.1) ...\n",
            "Setting up google-drive-ocamlfuse (0.7.1-0ubuntu3~ubuntu18.04.1) ...\n",
            "Processing triggers for man-db (2.8.3-2ubuntu0.1) ...\n"
          ],
          "name": "stdout"
        },
        {
          "output_type": "stream",
          "text": [
            "/usr/local/lib/python3.6/dist-packages/google/colab/auth.py:158: ResourceWarning: unclosed <ssl.SSLSocket fd=57, family=AddressFamily.AF_INET, type=SocketKind.SOCK_STREAM, proto=6, laddr=('172.28.0.2', 60490), raddr=('74.125.20.84', 443)>\n",
            "  if _check_adc():\n"
          ],
          "name": "stderr"
        },
        {
          "output_type": "stream",
          "text": [
            "Please, open the following URL in a web browser: https://accounts.google.com/o/oauth2/auth?client_id=32555940559.apps.googleusercontent.com&redirect_uri=urn%3Aietf%3Awg%3Aoauth%3A2.0%3Aoob&scope=https%3A%2F%2Fwww.googleapis.com%2Fauth%2Fdrive&response_type=code&access_type=offline&approval_prompt=force\n",
            "··········\n",
            "Please, open the following URL in a web browser: https://accounts.google.com/o/oauth2/auth?client_id=32555940559.apps.googleusercontent.com&redirect_uri=urn%3Aietf%3Awg%3Aoauth%3A2.0%3Aoob&scope=https%3A%2F%2Fwww.googleapis.com%2Fauth%2Fdrive&response_type=code&access_type=offline&approval_prompt=force\n",
            "Please enter the verification code: Access token retrieved correctly.\n"
          ],
          "name": "stdout"
        }
      ]
    },
    {
      "cell_type": "code",
      "metadata": {
        "id": "ClqY_Fj_zegP"
      },
      "source": [
        "!mkdir -p data\n",
        "!google-drive-ocamlfuse data"
      ],
      "execution_count": null,
      "outputs": []
    }
  ]
}